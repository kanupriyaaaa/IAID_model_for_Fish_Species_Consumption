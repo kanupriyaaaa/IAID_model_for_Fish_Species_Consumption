{
  "cells": [
    {
      "cell_type": "markdown",
      "id": "431f93a0-a8ab-44c8-97c4-5ef31373a5df",
      "metadata": {
        "id": "431f93a0-a8ab-44c8-97c4-5ef31373a5df"
      },
      "source": [
        "# Comparing SUR and ANN"
      ]
    },
    {
      "cell_type": "markdown",
      "id": "b82e7979-f12e-492e-a6b7-25ad9d97733d",
      "metadata": {
        "id": "b82e7979-f12e-492e-a6b7-25ad9d97733d"
      },
      "source": [
        "#SUR"
      ]
    },
    {
      "cell_type": "code",
      "execution_count": null,
      "id": "dd924a38-84dc-47b2-a751-9b1bd77e9be8",
      "metadata": {
        "id": "dd924a38-84dc-47b2-a751-9b1bd77e9be8",
        "outputId": "e68449fd-1497-4a10-fc21-9cefa69bb19d"
      },
      "outputs": [
        {
          "name": "stdout",
          "output_type": "stream",
          "text": [
            "Index(['Unnamed: 0', 'xAgg1', 'xAgg2', 'xAgg3', 'xAgg4', 'xAgg5', 'xAgg6',\n",
            "       'xAgg7', 'xAgg8', 'xAgg9', 'xAgg10', 'xAgg11', 'xAgg', 'xcAgg1',\n",
            "       'xcAgg2', 'xcAgg3', 'xcAgg4', 'xcAgg5', 'xcAgg6', 'xcAgg7', 'xcAgg8',\n",
            "       'xcAgg9', 'xcAgg10', 'xcAgg11', 'xcAgg', 'pAgg1', 'pAgg2', 'pAgg3',\n",
            "       'pAgg4', 'pAgg5', 'pAgg6', 'pAgg7', 'pAgg8', 'pAgg9', 'pAgg10',\n",
            "       'pAgg11', 'population3', 'wAgg1', 'wAgg2', 'wAgg3', 'wAgg4', 'wAgg5',\n",
            "       'wAgg6', 'wAgg7', 'wAgg8', 'wAgg9', 'wAgg10', 'wAgg11', 'xFoodUsdoc',\n",
            "       'xFoodUsda', 'xFoodNew', 'pMeat1', 'pMeat2', 'pMeat3', 'pMeat4',\n",
            "       'cMeat1', 'cMeat2', 'cMeat3', 'cMeat4', 'xMeat1', 'xMeat2', 'xMeat3',\n",
            "       'xMeat4', 'xMeat', 'pMeat', 'pMeatNew', 'xFood1', 'xFood2', 'xFood3',\n",
            "       'xFood4', 'xFood', 'xcFood1', 'xcFood2', 'xcFood3', 'xcFood4', 'xcFood',\n",
            "       'pFood1', 'pFood2', 'pFood3', 'pFood4', 'population12', 'wFood1',\n",
            "       'wFood2', 'wFood3', 'wFood4'],\n",
            "      dtype='object')\n",
            "                           System GLS Estimation Summary                           \n",
            "===================================================================================\n",
            "Estimator:                        GLS   Overall R-squared:                   0.8344\n",
            "No. Equations.:                     4   McElroy's R-squared:                 0.7685\n",
            "No. Observations:                  32   Judge's (OLS) R-squared:             0.8344\n",
            "Date:                Thu, Aug 01 2024   Berndt's R-squared:                  0.9884\n",
            "Time:                        11:05:33   Dhrymes's R-squared:                 0.8344\n",
            "                                        Cov. Estimator:                      robust\n",
            "                                        Num. Constraints:                      None\n",
            "                    Equation: wFood1, Dependent Variable: wFood1                   \n",
            "===================================================================================\n",
            "                 Parameter  Std. Err.     T-stat    P-value    Lower CI    Upper CI\n",
            "-----------------------------------------------------------------------------------\n",
            "pFood1              0.1199     0.0158     7.5931     0.0000      0.0890      0.1509\n",
            "pFood2             -0.0462     0.0330    -1.3999     0.1616     -0.1108      0.0185\n",
            "pFood3             -0.0366     0.0282    -1.3008     0.1933     -0.0918      0.0186\n",
            "pFood4             -0.0014     0.0210    -0.0664     0.9471     -0.0425      0.0398\n",
            "StonePriceIndex     0.1157     0.0421     2.7511     0.0059      0.0333      0.1982\n",
            "const              -0.0449     0.0557    -0.8059     0.4203     -0.1539      0.0642\n",
            "                    Equation: wFood2, Dependent Variable: wFood2                   \n",
            "===================================================================================\n",
            "                 Parameter  Std. Err.     T-stat    P-value    Lower CI    Upper CI\n",
            "-----------------------------------------------------------------------------------\n",
            "pFood1             -0.1264     0.0167    -7.5780     0.0000     -0.1591     -0.0937\n",
            "pFood2              0.1478     0.0342     4.3263     0.0000      0.0809      0.2148\n",
            "pFood3              0.0454     0.0341     1.3336     0.1823     -0.0213      0.1122\n",
            "pFood4             -0.0528     0.0267    -1.9731     0.0485     -0.1052     -0.0004\n",
            "StonePriceIndex    -0.0203     0.0369    -0.5492     0.5829     -0.0925      0.0520\n",
            "const               0.1764     0.0440     4.0135     0.0001      0.0903      0.2626\n",
            "                    Equation: wFood3, Dependent Variable: wFood3                   \n",
            "===================================================================================\n",
            "                 Parameter  Std. Err.     T-stat    P-value    Lower CI    Upper CI\n",
            "-----------------------------------------------------------------------------------\n",
            "pFood1             -0.0056     0.0097    -0.5778     0.5634     -0.0247      0.0135\n",
            "pFood2             -0.0236     0.0213    -1.1085     0.2677     -0.0652      0.0181\n",
            "pFood3              0.0282     0.0146     1.9332     0.0532     -0.0004      0.0567\n",
            "pFood4              0.0001     0.0138     0.0096     0.9923     -0.0269      0.0271\n",
            "StonePriceIndex    -0.0623     0.0292    -2.1338     0.0329     -0.1195     -0.0051\n",
            "const               0.2430     0.0404     6.0167     0.0000      0.1638      0.3221\n",
            "                    Equation: wFood4, Dependent Variable: wFood4                   \n",
            "===================================================================================\n",
            "                 Parameter  Std. Err.     T-stat    P-value    Lower CI    Upper CI\n",
            "-----------------------------------------------------------------------------------\n",
            "pFood1              0.0112     0.0205     0.5456     0.5853     -0.0290      0.0514\n",
            "pFood2             -0.0761     0.0377    -2.0175     0.0436     -0.1499     -0.0022\n",
            "pFood3             -0.0374     0.0421    -0.8889     0.3740     -0.1199      0.0451\n",
            "pFood4              0.0524     0.0352     1.4888     0.1365     -0.0166      0.1213\n",
            "StonePriceIndex    -0.0309     0.0517    -0.5978     0.5500     -0.1322      0.0704\n",
            "const               0.6263     0.0654     9.5828     0.0000      0.4982      0.7544\n",
            "===================================================================================\n",
            "\n",
            "Covariance Estimator:\n",
            "Heteroskedastic (Robust) Covariance (Debiased: False, GLS: True)\n",
            "\n",
            "R^2 for wFood1: 0.8028\n",
            "\n",
            "R^2 for wFood2: 0.8674\n",
            "\n",
            "R^2 for wFood3: 0.4406\n",
            "\n",
            "R^2 for wFood4: 0.8506\n",
            "\n",
            "Coefficients for wFood1:\n",
            "pFood1             0.119943\n",
            "pFood2            -0.046176\n",
            "pFood3            -0.036638\n",
            "pFood4            -0.001394\n",
            "StonePriceIndex    0.115721\n",
            "const             -0.044857\n",
            "Name: params, dtype: float64\n",
            "\n",
            "Coefficients for wFood2:\n",
            "pFood1            -0.126404\n",
            "pFood2             0.147821\n",
            "pFood3             0.045412\n",
            "pFood4            -0.052773\n",
            "StonePriceIndex   -0.020256\n",
            "const              0.176434\n",
            "Name: params, dtype: float64\n",
            "\n",
            "Coefficients for wFood3:\n",
            "pFood1            -0.005628\n",
            "pFood2            -0.023558\n",
            "pFood3             0.028164\n",
            "pFood4             0.000132\n",
            "StonePriceIndex   -0.062309\n",
            "const              0.242967\n",
            "Name: params, dtype: float64\n",
            "\n",
            "Coefficients for wFood4:\n",
            "pFood1             0.011194\n",
            "pFood2            -0.076054\n",
            "pFood3            -0.037426\n",
            "pFood4             0.052355\n",
            "StonePriceIndex   -0.030895\n",
            "const              0.626337\n",
            "Name: params, dtype: float64\n"
          ]
        }
      ],
      "source": [
        "import pandas as pd\n",
        "from linearmodels.system import SUR\n",
        "import statsmodels.api as sm\n",
        "import numpy as np\n",
        "\n",
        "\n",
        "df=pd.read_csv('xfood_test.csv')\n",
        "print(df.columns)\n",
        "df=df[['wFood1','wFood2','wFood3','wFood4','pFood1','pFood2','pFood3','pFood4','xFood']]\n",
        "df['StonePriceIndex']= np.log(df['xFood']) - np.log((df['wFood1']*df['pFood1'])+ (df['wFood2']*df['pFood2'])+(df['wFood3']*df['pFood3'])+(df['wFood4']*df['pFood4']))\n",
        "\n",
        "\n",
        "# df=df[['TotalCatch_1','TotalCatch_2','TotalCatch_3','TotalCatch_4','stoneQuantityIndex','BudgetS_1','BudgetS_2','BudgetS_3','BudgetS_4']]\n",
        "df['pFood1']= np.log(df['pFood1'])\n",
        "df['pFood2']= np.log(df['pFood2'])\n",
        "df['pFood3']= np.log(df['pFood3'])\n",
        "df['pFood4']= np.log(df['pFood4'])\n",
        "df\n",
        "data=df.copy()\n",
        "\n",
        "# Input variables (total catch 1 to 4 and stoneindex)\n",
        "X = data[['pFood1','pFood2','pFood3','pFood4','StonePriceIndex']]\n",
        "\n",
        "# Adding a constant term for the intercept\n",
        "X = sm.add_constant(X)\n",
        "\n",
        "# Output variables (budget 1 to budget 4)\n",
        "y1 = data['wFood1']\n",
        "y2 = data['wFood2']\n",
        "y3 = data['wFood3']\n",
        "y4 = data['wFood4']\n",
        "\n",
        "# Combine data into a DataFrame\n",
        "data_dict = pd.concat([X, data['wFood1'], data['wFood2'], data['wFood3'], data['wFood4']], axis=1)\n",
        "\n",
        "# Construct the system of equations\n",
        "equations = {\n",
        "    'wFood1': 'wFood1 ~ pFood1 + pFood2 + pFood3 + pFood4 + StonePriceIndex + const',\n",
        "    'wFood2': 'wFood2 ~ pFood1 + pFood2 + pFood3 + pFood4 + StonePriceIndex + const',\n",
        "    'wFood3': 'wFood3 ~ pFood1 + pFood2 + pFood3 + pFood4 + StonePriceIndex + const',\n",
        "    'wFood4': 'wFood4 ~ pFood1 + pFood2 + pFood3 + pFood4 + StonePriceIndex + const'\n",
        "}\n",
        "\n",
        "# Fit the SUR model\n",
        "sys = SUR.from_formula(equations, data=data_dict)\n",
        "sur_res = sys.fit()\n",
        "\n",
        "# Print the summary for the model\n",
        "print(sur_res.summary)\n",
        "sur_rsq_list=[]\n",
        "sur_adj_rsq_list=[]\n",
        "# To display the R^2 for each equation\n",
        "for equation in sur_res.equations:\n",
        "    print(f\"\\nR^2 for {equation}: {sur_res.equations[equation].rsquared:.4f}\")\n",
        "    sur_rsq_list.append(sur_res.equations[equation].rsquared)\n",
        "    sur_adj_rsq_list.append(sur_res.equations[equation].rsquared_adj)\n",
        "# Print the coefficients including intercepts for each equation\n",
        "for equation in sur_res.equations:\n",
        "    print(f\"\\nCoefficients for {equation}:\")\n",
        "    print(sur_res.equations[equation].params)"
      ]
    },
    {
      "cell_type": "code",
      "execution_count": null,
      "id": "7741cb0c-bd54-44c3-a244-34d2b3e97f17",
      "metadata": {
        "id": "7741cb0c-bd54-44c3-a244-34d2b3e97f17",
        "outputId": "7716dd40-1eb3-4794-e87c-2be6680f5136"
      },
      "outputs": [
        {
          "name": "stdout",
          "output_type": "stream",
          "text": [
            "Empty DataFrame\n",
            "Columns: [Model_name, RSquared, Adj_RSquared]\n",
            "Index: []\n"
          ]
        },
        {
          "data": {
            "text/html": [
              "<div>\n",
              "<style scoped>\n",
              "    .dataframe tbody tr th:only-of-type {\n",
              "        vertical-align: middle;\n",
              "    }\n",
              "\n",
              "    .dataframe tbody tr th {\n",
              "        vertical-align: top;\n",
              "    }\n",
              "\n",
              "    .dataframe thead th {\n",
              "        text-align: right;\n",
              "    }\n",
              "</style>\n",
              "<table border=\"1\" class=\"dataframe\">\n",
              "  <thead>\n",
              "    <tr style=\"text-align: right;\">\n",
              "      <th></th>\n",
              "      <th>Model_name</th>\n",
              "      <th>RSquared</th>\n",
              "      <th>Adj_RSquared</th>\n",
              "    </tr>\n",
              "  </thead>\n",
              "  <tbody>\n",
              "  </tbody>\n",
              "</table>\n",
              "</div>"
            ],
            "text/plain": [
              "Empty DataFrame\n",
              "Columns: [Model_name, RSquared, Adj_RSquared]\n",
              "Index: []"
            ]
          },
          "execution_count": 28,
          "metadata": {},
          "output_type": "execute_result"
        }
      ],
      "source": [
        "report_df=pd.DataFrame(columns=['Model_name','RSquared','Adj_RSquared'])\n",
        "print(report_df)\n",
        "def get_report(report_df,rsq,ad_rsq,model_name):\n",
        "    temp_df=pd.DataFrame({'Model_name':model_name,'RSquared':[rsq],'Adj_RSquared':[ad_rsq]})\n",
        "    report_df=pd.concat((report_df,temp_df),axis=0)\n",
        "    return report_df\n",
        "report_df"
      ]
    },
    {
      "cell_type": "code",
      "execution_count": null,
      "id": "7af8bf5b-21ad-444a-ae85-53796f0d2a16",
      "metadata": {
        "id": "7af8bf5b-21ad-444a-ae85-53796f0d2a16",
        "outputId": "cd2667ef-1cd7-4b1b-b915-a62b9ce39f6c"
      },
      "outputs": [
        {
          "name": "stderr",
          "output_type": "stream",
          "text": [
            "C:\\Users\\agarw\\AppData\\Local\\Temp\\ipykernel_21784\\3551263925.py:5: FutureWarning:\n",
            "\n",
            "The behavior of DataFrame concatenation with empty or all-NA entries is deprecated. In a future version, this will no longer exclude empty or all-NA columns when determining the result dtypes. To retain the old behavior, exclude the relevant entries before the concat operation.\n",
            "\n"
          ]
        },
        {
          "data": {
            "text/html": [
              "<div>\n",
              "<style scoped>\n",
              "    .dataframe tbody tr th:only-of-type {\n",
              "        vertical-align: middle;\n",
              "    }\n",
              "\n",
              "    .dataframe tbody tr th {\n",
              "        vertical-align: top;\n",
              "    }\n",
              "\n",
              "    .dataframe thead th {\n",
              "        text-align: right;\n",
              "    }\n",
              "</style>\n",
              "<table border=\"1\" class=\"dataframe\">\n",
              "  <thead>\n",
              "    <tr style=\"text-align: right;\">\n",
              "      <th></th>\n",
              "      <th>Model_name</th>\n",
              "      <th>RSquared</th>\n",
              "      <th>Adj_RSquared</th>\n",
              "    </tr>\n",
              "  </thead>\n",
              "  <tbody>\n",
              "    <tr>\n",
              "      <th>0</th>\n",
              "      <td>Full SUR Model</td>\n",
              "      <td>0.740344</td>\n",
              "      <td>0.690411</td>\n",
              "    </tr>\n",
              "  </tbody>\n",
              "</table>\n",
              "</div>"
            ],
            "text/plain": [
              "       Model_name  RSquared  Adj_RSquared\n",
              "0  Full SUR Model  0.740344      0.690411"
            ]
          },
          "execution_count": 29,
          "metadata": {},
          "output_type": "execute_result"
        }
      ],
      "source": [
        "report_df=get_report(report_df,np.mean(list(sur_rsq_list)),np.mean(list(sur_adj_rsq_list)),'Full SUR Model')\n",
        "report_df"
      ]
    },
    {
      "cell_type": "markdown",
      "id": "1c3d37da-2c14-4f5e-8793-dcf4e25aebe1",
      "metadata": {
        "id": "1c3d37da-2c14-4f5e-8793-dcf4e25aebe1"
      },
      "source": [
        "#ANN"
      ]
    },
    {
      "cell_type": "code",
      "execution_count": null,
      "id": "7446b476-03c1-41fb-8335-7e0b86bcc820",
      "metadata": {
        "id": "7446b476-03c1-41fb-8335-7e0b86bcc820",
        "outputId": "88444673-d61e-4ecc-ee09-2eafbf4db1f2"
      },
      "outputs": [
        {
          "name": "stdout",
          "output_type": "stream",
          "text": [
            "(25, 5) (7, 5) (25, 4) (7, 4)\n"
          ]
        }
      ],
      "source": [
        "import numpy as np\n",
        "import pandas as pd\n",
        "from sklearn.model_selection import train_test_split\n",
        "import tensorflow as tf\n",
        "from tensorflow.keras.models import Sequential\n",
        "from tensorflow.keras.layers import Dense\n",
        "import os\n",
        "\n",
        "\n",
        "df=pd.read_csv('xfood_test.csv')\n",
        "df_stone=df.copy()\n",
        "df_stone=df_stone[['wFood1','wFood2','wFood3','wFood4','pFood1','pFood2','pFood3','pFood4','xFood']]\n",
        "df_stone['StonePriceIndex']= np.log(df_stone['xFood']) - np.log((df_stone['wFood1']*df_stone['pFood1'])+ (df_stone['wFood2']*df_stone['pFood2'])+(df_stone['wFood3']*df_stone['pFood3'])+(df_stone['wFood4']*df_stone['pFood4']))\n",
        "df_stone\n",
        "\n",
        "\n",
        "df1=df_stone.copy()\n",
        "df1\n",
        "\n",
        "df1['pFood1']= np.log(df1['pFood1'])\n",
        "df1['pFood2']= np.log(df1['pFood2'])\n",
        "df1['pFood3']= np.log(df1['pFood3'])\n",
        "df1['pFood4']= np.log(df1['pFood4'])\n",
        "df1\n",
        "\n",
        "df1.columns\n",
        "\n",
        "# Define input and output columns\n",
        "input_cols = ['pFood1' , 'pFood2' , 'pFood3','pFood4','StonePriceIndex']\n",
        "output_cols = ['wFood1' , 'wFood2' , 'wFood3' , 'wFood4']\n",
        "\n",
        "# Split the data into input and output\n",
        "X = df1[input_cols].values\n",
        "Y = df1[output_cols].values\n",
        "\n",
        "# Split into training and test sets\n",
        "X_train, X_test, Y_train, Y_test = train_test_split(X, Y, test_size=0.2, random_state=0)\n",
        "print(X_train.shape, X_test.shape, Y_train.shape, Y_test.shape)"
      ]
    },
    {
      "cell_type": "code",
      "execution_count": null,
      "id": "918e5725-92ab-45ca-9891-88c3f59e4cac",
      "metadata": {
        "id": "918e5725-92ab-45ca-9891-88c3f59e4cac",
        "outputId": "723283ae-5a26-4220-8dc1-2c6d213e6a19"
      },
      "outputs": [
        {
          "name": "stderr",
          "output_type": "stream",
          "text": [
            "C:\\Users\\agarw\\anaconda3\\Lib\\site-packages\\keras\\src\\layers\\core\\dense.py:87: UserWarning:\n",
            "\n",
            "Do not pass an `input_shape`/`input_dim` argument to a layer. When using Sequential models, prefer using an `Input(shape)` object as the first layer in the model instead.\n",
            "\n"
          ]
        },
        {
          "data": {
            "text/html": [
              "<pre style=\"white-space:pre;overflow-x:auto;line-height:normal;font-family:Menlo,'DejaVu Sans Mono',consolas,'Courier New',monospace\"><span style=\"font-weight: bold\">Model: \"sequential\"</span>\n",
              "</pre>\n"
            ],
            "text/plain": [
              "\u001b[1mModel: \"sequential\"\u001b[0m\n"
            ]
          },
          "metadata": {},
          "output_type": "display_data"
        },
        {
          "data": {
            "text/html": [
              "<pre style=\"white-space:pre;overflow-x:auto;line-height:normal;font-family:Menlo,'DejaVu Sans Mono',consolas,'Courier New',monospace\">┏━━━━━━━━━━━━━━━━━━━━━━━━━━━━━━━━━━━━━━┳━━━━━━━━━━━━━━━━━━━━━━━━━━━━━┳━━━━━━━━━━━━━━━━━┓\n",
              "┃<span style=\"font-weight: bold\"> Layer (type)                         </span>┃<span style=\"font-weight: bold\"> Output Shape                </span>┃<span style=\"font-weight: bold\">         Param # </span>┃\n",
              "┡━━━━━━━━━━━━━━━━━━━━━━━━━━━━━━━━━━━━━━╇━━━━━━━━━━━━━━━━━━━━━━━━━━━━━╇━━━━━━━━━━━━━━━━━┩\n",
              "│ dense (<span style=\"color: #0087ff; text-decoration-color: #0087ff\">Dense</span>)                        │ (<span style=\"color: #00d7ff; text-decoration-color: #00d7ff\">None</span>, <span style=\"color: #00af00; text-decoration-color: #00af00\">5</span>)                   │              <span style=\"color: #00af00; text-decoration-color: #00af00\">30</span> │\n",
              "├──────────────────────────────────────┼─────────────────────────────┼─────────────────┤\n",
              "│ dense_1 (<span style=\"color: #0087ff; text-decoration-color: #0087ff\">Dense</span>)                      │ (<span style=\"color: #00d7ff; text-decoration-color: #00d7ff\">None</span>, <span style=\"color: #00af00; text-decoration-color: #00af00\">32</span>)                  │             <span style=\"color: #00af00; text-decoration-color: #00af00\">192</span> │\n",
              "├──────────────────────────────────────┼─────────────────────────────┼─────────────────┤\n",
              "│ dense_2 (<span style=\"color: #0087ff; text-decoration-color: #0087ff\">Dense</span>)                      │ (<span style=\"color: #00d7ff; text-decoration-color: #00d7ff\">None</span>, <span style=\"color: #00af00; text-decoration-color: #00af00\">4</span>)                   │             <span style=\"color: #00af00; text-decoration-color: #00af00\">132</span> │\n",
              "└──────────────────────────────────────┴─────────────────────────────┴─────────────────┘\n",
              "</pre>\n"
            ],
            "text/plain": [
              "┏━━━━━━━━━━━━━━━━━━━━━━━━━━━━━━━━━━━━━━┳━━━━━━━━━━━━━━━━━━━━━━━━━━━━━┳━━━━━━━━━━━━━━━━━┓\n",
              "┃\u001b[1m \u001b[0m\u001b[1mLayer (type)                        \u001b[0m\u001b[1m \u001b[0m┃\u001b[1m \u001b[0m\u001b[1mOutput Shape               \u001b[0m\u001b[1m \u001b[0m┃\u001b[1m \u001b[0m\u001b[1m        Param #\u001b[0m\u001b[1m \u001b[0m┃\n",
              "┡━━━━━━━━━━━━━━━━━━━━━━━━━━━━━━━━━━━━━━╇━━━━━━━━━━━━━━━━━━━━━━━━━━━━━╇━━━━━━━━━━━━━━━━━┩\n",
              "│ dense (\u001b[38;5;33mDense\u001b[0m)                        │ (\u001b[38;5;45mNone\u001b[0m, \u001b[38;5;34m5\u001b[0m)                   │              \u001b[38;5;34m30\u001b[0m │\n",
              "├──────────────────────────────────────┼─────────────────────────────┼─────────────────┤\n",
              "│ dense_1 (\u001b[38;5;33mDense\u001b[0m)                      │ (\u001b[38;5;45mNone\u001b[0m, \u001b[38;5;34m32\u001b[0m)                  │             \u001b[38;5;34m192\u001b[0m │\n",
              "├──────────────────────────────────────┼─────────────────────────────┼─────────────────┤\n",
              "│ dense_2 (\u001b[38;5;33mDense\u001b[0m)                      │ (\u001b[38;5;45mNone\u001b[0m, \u001b[38;5;34m4\u001b[0m)                   │             \u001b[38;5;34m132\u001b[0m │\n",
              "└──────────────────────────────────────┴─────────────────────────────┴─────────────────┘\n"
            ]
          },
          "metadata": {},
          "output_type": "display_data"
        },
        {
          "data": {
            "text/html": [
              "<pre style=\"white-space:pre;overflow-x:auto;line-height:normal;font-family:Menlo,'DejaVu Sans Mono',consolas,'Courier New',monospace\"><span style=\"font-weight: bold\"> Total params: </span><span style=\"color: #00af00; text-decoration-color: #00af00\">354</span> (1.38 KB)\n",
              "</pre>\n"
            ],
            "text/plain": [
              "\u001b[1m Total params: \u001b[0m\u001b[38;5;34m354\u001b[0m (1.38 KB)\n"
            ]
          },
          "metadata": {},
          "output_type": "display_data"
        },
        {
          "data": {
            "text/html": [
              "<pre style=\"white-space:pre;overflow-x:auto;line-height:normal;font-family:Menlo,'DejaVu Sans Mono',consolas,'Courier New',monospace\"><span style=\"font-weight: bold\"> Trainable params: </span><span style=\"color: #00af00; text-decoration-color: #00af00\">354</span> (1.38 KB)\n",
              "</pre>\n"
            ],
            "text/plain": [
              "\u001b[1m Trainable params: \u001b[0m\u001b[38;5;34m354\u001b[0m (1.38 KB)\n"
            ]
          },
          "metadata": {},
          "output_type": "display_data"
        },
        {
          "data": {
            "text/html": [
              "<pre style=\"white-space:pre;overflow-x:auto;line-height:normal;font-family:Menlo,'DejaVu Sans Mono',consolas,'Courier New',monospace\"><span style=\"font-weight: bold\"> Non-trainable params: </span><span style=\"color: #00af00; text-decoration-color: #00af00\">0</span> (0.00 B)\n",
              "</pre>\n"
            ],
            "text/plain": [
              "\u001b[1m Non-trainable params: \u001b[0m\u001b[38;5;34m0\u001b[0m (0.00 B)\n"
            ]
          },
          "metadata": {},
          "output_type": "display_data"
        }
      ],
      "source": [
        "# Define the model architecture\n",
        "model = Sequential([\n",
        "    Dense(5, activation='relu', input_shape=(5,)),\n",
        "    Dense(32, activation='relu'),\n",
        "    Dense(4)  # Output layer with 4 units for BudgetS_1 to BudgetS_4\n",
        "])\n",
        "\n",
        "# Compile the model\n",
        "model.compile(optimizer='adam', loss='mean_squared_error')\n",
        "\n",
        "# Print the model summary\n",
        "model.summary()\n"
      ]
    },
    {
      "cell_type": "code",
      "execution_count": null,
      "id": "b8c4de61-7e01-4811-9ea2-4f8efaa32d26",
      "metadata": {
        "id": "b8c4de61-7e01-4811-9ea2-4f8efaa32d26",
        "outputId": "f33559cb-d1fc-4a11-9293-37b9e355b263"
      },
      "outputs": [
        {
          "name": "stdout",
          "output_type": "stream",
          "text": [
            "Epoch 1/50\n",
            "\u001b[1m5/5\u001b[0m \u001b[32m━━━━━━━━━━━━━━━━━━━━\u001b[0m\u001b[37m\u001b[0m \u001b[1m3s\u001b[0m 92ms/step - loss: 0.0700 - val_loss: 0.0676\n",
            "Epoch 2/50\n",
            "\u001b[1m5/5\u001b[0m \u001b[32m━━━━━━━━━━━━━━━━━━━━\u001b[0m\u001b[37m\u001b[0m \u001b[1m0s\u001b[0m 21ms/step - loss: 0.0674 - val_loss: 0.0652\n",
            "Epoch 3/50\n",
            "\u001b[1m5/5\u001b[0m \u001b[32m━━━━━━━━━━━━━━━━━━━━\u001b[0m\u001b[37m\u001b[0m \u001b[1m0s\u001b[0m 24ms/step - loss: 0.0647 - val_loss: 0.0629\n",
            "Epoch 4/50\n",
            "\u001b[1m5/5\u001b[0m \u001b[32m━━━━━━━━━━━━━━━━━━━━\u001b[0m\u001b[37m\u001b[0m \u001b[1m0s\u001b[0m 16ms/step - loss: 0.0627 - val_loss: 0.0606\n",
            "Epoch 5/50\n",
            "\u001b[1m5/5\u001b[0m \u001b[32m━━━━━━━━━━━━━━━━━━━━\u001b[0m\u001b[37m\u001b[0m \u001b[1m0s\u001b[0m 16ms/step - loss: 0.0604 - val_loss: 0.0583\n",
            "Epoch 6/50\n",
            "\u001b[1m5/5\u001b[0m \u001b[32m━━━━━━━━━━━━━━━━━━━━\u001b[0m\u001b[37m\u001b[0m \u001b[1m0s\u001b[0m 18ms/step - loss: 0.0582 - val_loss: 0.0562\n",
            "Epoch 7/50\n",
            "\u001b[1m5/5\u001b[0m \u001b[32m━━━━━━━━━━━━━━━━━━━━\u001b[0m\u001b[37m\u001b[0m \u001b[1m0s\u001b[0m 17ms/step - loss: 0.0561 - val_loss: 0.0540\n",
            "Epoch 8/50\n",
            "\u001b[1m5/5\u001b[0m \u001b[32m━━━━━━━━━━━━━━━━━━━━\u001b[0m\u001b[37m\u001b[0m \u001b[1m0s\u001b[0m 17ms/step - loss: 0.0538 - val_loss: 0.0520\n",
            "Epoch 9/50\n",
            "\u001b[1m5/5\u001b[0m \u001b[32m━━━━━━━━━━━━━━━━━━━━\u001b[0m\u001b[37m\u001b[0m \u001b[1m0s\u001b[0m 18ms/step - loss: 0.0517 - val_loss: 0.0500\n",
            "Epoch 10/50\n",
            "\u001b[1m5/5\u001b[0m \u001b[32m━━━━━━━━━━━━━━━━━━━━\u001b[0m\u001b[37m\u001b[0m \u001b[1m0s\u001b[0m 19ms/step - loss: 0.0497 - val_loss: 0.0481\n",
            "Epoch 11/50\n",
            "\u001b[1m5/5\u001b[0m \u001b[32m━━━━━━━━━━━━━━━━━━━━\u001b[0m\u001b[37m\u001b[0m \u001b[1m0s\u001b[0m 16ms/step - loss: 0.0479 - val_loss: 0.0463\n",
            "Epoch 12/50\n",
            "\u001b[1m5/5\u001b[0m \u001b[32m━━━━━━━━━━━━━━━━━━━━\u001b[0m\u001b[37m\u001b[0m \u001b[1m0s\u001b[0m 19ms/step - loss: 0.0463 - val_loss: 0.0445\n",
            "Epoch 13/50\n",
            "\u001b[1m5/5\u001b[0m \u001b[32m━━━━━━━━━━━━━━━━━━━━\u001b[0m\u001b[37m\u001b[0m \u001b[1m0s\u001b[0m 17ms/step - loss: 0.0445 - val_loss: 0.0428\n",
            "Epoch 14/50\n",
            "\u001b[1m5/5\u001b[0m \u001b[32m━━━━━━━━━━━━━━━━━━━━\u001b[0m\u001b[37m\u001b[0m \u001b[1m0s\u001b[0m 20ms/step - loss: 0.0431 - val_loss: 0.0411\n",
            "Epoch 15/50\n",
            "\u001b[1m5/5\u001b[0m \u001b[32m━━━━━━━━━━━━━━━━━━━━\u001b[0m\u001b[37m\u001b[0m \u001b[1m0s\u001b[0m 24ms/step - loss: 0.0412 - val_loss: 0.0395\n",
            "Epoch 16/50\n",
            "\u001b[1m5/5\u001b[0m \u001b[32m━━━━━━━━━━━━━━━━━━━━\u001b[0m\u001b[37m\u001b[0m \u001b[1m0s\u001b[0m 18ms/step - loss: 0.0397 - val_loss: 0.0380\n",
            "Epoch 17/50\n",
            "\u001b[1m5/5\u001b[0m \u001b[32m━━━━━━━━━━━━━━━━━━━━\u001b[0m\u001b[37m\u001b[0m \u001b[1m0s\u001b[0m 23ms/step - loss: 0.0382 - val_loss: 0.0365\n",
            "Epoch 18/50\n",
            "\u001b[1m5/5\u001b[0m \u001b[32m━━━━━━━━━━━━━━━━━━━━\u001b[0m\u001b[37m\u001b[0m \u001b[1m0s\u001b[0m 24ms/step - loss: 0.0362 - val_loss: 0.0350\n",
            "Epoch 19/50\n",
            "\u001b[1m5/5\u001b[0m \u001b[32m━━━━━━━━━━━━━━━━━━━━\u001b[0m\u001b[37m\u001b[0m \u001b[1m0s\u001b[0m 28ms/step - loss: 0.0351 - val_loss: 0.0336\n",
            "Epoch 20/50\n",
            "\u001b[1m5/5\u001b[0m \u001b[32m━━━━━━━━━━━━━━━━━━━━\u001b[0m\u001b[37m\u001b[0m \u001b[1m0s\u001b[0m 30ms/step - loss: 0.0337 - val_loss: 0.0323\n",
            "Epoch 21/50\n",
            "\u001b[1m5/5\u001b[0m \u001b[32m━━━━━━━━━━━━━━━━━━━━\u001b[0m\u001b[37m\u001b[0m \u001b[1m0s\u001b[0m 19ms/step - loss: 0.0321 - val_loss: 0.0310\n",
            "Epoch 22/50\n",
            "\u001b[1m5/5\u001b[0m \u001b[32m━━━━━━━━━━━━━━━━━━━━\u001b[0m\u001b[37m\u001b[0m \u001b[1m0s\u001b[0m 25ms/step - loss: 0.0312 - val_loss: 0.0297\n",
            "Epoch 23/50\n",
            "\u001b[1m5/5\u001b[0m \u001b[32m━━━━━━━━━━━━━━━━━━━━\u001b[0m\u001b[37m\u001b[0m \u001b[1m0s\u001b[0m 26ms/step - loss: 0.0300 - val_loss: 0.0285\n",
            "Epoch 24/50\n",
            "\u001b[1m5/5\u001b[0m \u001b[32m━━━━━━━━━━━━━━━━━━━━\u001b[0m\u001b[37m\u001b[0m \u001b[1m0s\u001b[0m 41ms/step - loss: 0.0289 - val_loss: 0.0274\n",
            "Epoch 25/50\n",
            "\u001b[1m5/5\u001b[0m \u001b[32m━━━━━━━━━━━━━━━━━━━━\u001b[0m\u001b[37m\u001b[0m \u001b[1m0s\u001b[0m 21ms/step - loss: 0.0276 - val_loss: 0.0263\n",
            "Epoch 26/50\n",
            "\u001b[1m5/5\u001b[0m \u001b[32m━━━━━━━━━━━━━━━━━━━━\u001b[0m\u001b[37m\u001b[0m \u001b[1m0s\u001b[0m 15ms/step - loss: 0.0261 - val_loss: 0.0252\n",
            "Epoch 27/50\n",
            "\u001b[1m5/5\u001b[0m \u001b[32m━━━━━━━━━━━━━━━━━━━━\u001b[0m\u001b[37m\u001b[0m \u001b[1m0s\u001b[0m 27ms/step - loss: 0.0251 - val_loss: 0.0242\n",
            "Epoch 28/50\n",
            "\u001b[1m5/5\u001b[0m \u001b[32m━━━━━━━━━━━━━━━━━━━━\u001b[0m\u001b[37m\u001b[0m \u001b[1m0s\u001b[0m 24ms/step - loss: 0.0244 - val_loss: 0.0232\n",
            "Epoch 29/50\n",
            "\u001b[1m5/5\u001b[0m \u001b[32m━━━━━━━━━━━━━━━━━━━━\u001b[0m\u001b[37m\u001b[0m \u001b[1m0s\u001b[0m 26ms/step - loss: 0.0233 - val_loss: 0.0222\n",
            "Epoch 30/50\n",
            "\u001b[1m5/5\u001b[0m \u001b[32m━━━━━━━━━━━━━━━━━━━━\u001b[0m\u001b[37m\u001b[0m \u001b[1m0s\u001b[0m 35ms/step - loss: 0.0222 - val_loss: 0.0213\n",
            "Epoch 31/50\n",
            "\u001b[1m5/5\u001b[0m \u001b[32m━━━━━━━━━━━━━━━━━━━━\u001b[0m\u001b[37m\u001b[0m \u001b[1m0s\u001b[0m 26ms/step - loss: 0.0214 - val_loss: 0.0204\n",
            "Epoch 32/50\n",
            "\u001b[1m5/5\u001b[0m \u001b[32m━━━━━━━━━━━━━━━━━━━━\u001b[0m\u001b[37m\u001b[0m \u001b[1m0s\u001b[0m 32ms/step - loss: 0.0205 - val_loss: 0.0196\n",
            "Epoch 33/50\n",
            "\u001b[1m5/5\u001b[0m \u001b[32m━━━━━━━━━━━━━━━━━━━━\u001b[0m\u001b[37m\u001b[0m \u001b[1m0s\u001b[0m 45ms/step - loss: 0.0198 - val_loss: 0.0187\n",
            "Epoch 34/50\n",
            "\u001b[1m5/5\u001b[0m \u001b[32m━━━━━━━━━━━━━━━━━━━━\u001b[0m\u001b[37m\u001b[0m \u001b[1m0s\u001b[0m 24ms/step - loss: 0.0189 - val_loss: 0.0179\n",
            "Epoch 35/50\n",
            "\u001b[1m5/5\u001b[0m \u001b[32m━━━━━━━━━━━━━━━━━━━━\u001b[0m\u001b[37m\u001b[0m \u001b[1m0s\u001b[0m 22ms/step - loss: 0.0181 - val_loss: 0.0172\n",
            "Epoch 36/50\n",
            "\u001b[1m5/5\u001b[0m \u001b[32m━━━━━━━━━━━━━━━━━━━━\u001b[0m\u001b[37m\u001b[0m \u001b[1m0s\u001b[0m 22ms/step - loss: 0.0173 - val_loss: 0.0165\n",
            "Epoch 37/50\n",
            "\u001b[1m5/5\u001b[0m \u001b[32m━━━━━━━━━━━━━━━━━━━━\u001b[0m\u001b[37m\u001b[0m \u001b[1m0s\u001b[0m 18ms/step - loss: 0.0167 - val_loss: 0.0158\n",
            "Epoch 38/50\n",
            "\u001b[1m5/5\u001b[0m \u001b[32m━━━━━━━━━━━━━━━━━━━━\u001b[0m\u001b[37m\u001b[0m \u001b[1m0s\u001b[0m 15ms/step - loss: 0.0158 - val_loss: 0.0151\n",
            "Epoch 39/50\n",
            "\u001b[1m5/5\u001b[0m \u001b[32m━━━━━━━━━━━━━━━━━━━━\u001b[0m\u001b[37m\u001b[0m \u001b[1m0s\u001b[0m 15ms/step - loss: 0.0151 - val_loss: 0.0144\n",
            "Epoch 40/50\n",
            "\u001b[1m5/5\u001b[0m \u001b[32m━━━━━━━━━━━━━━━━━━━━\u001b[0m\u001b[37m\u001b[0m \u001b[1m0s\u001b[0m 17ms/step - loss: 0.0146 - val_loss: 0.0138\n",
            "Epoch 41/50\n",
            "\u001b[1m5/5\u001b[0m \u001b[32m━━━━━━━━━━━━━━━━━━━━\u001b[0m\u001b[37m\u001b[0m \u001b[1m0s\u001b[0m 16ms/step - loss: 0.0138 - val_loss: 0.0132\n",
            "Epoch 42/50\n",
            "\u001b[1m5/5\u001b[0m \u001b[32m━━━━━━━━━━━━━━━━━━━━\u001b[0m\u001b[37m\u001b[0m \u001b[1m0s\u001b[0m 16ms/step - loss: 0.0135 - val_loss: 0.0126\n",
            "Epoch 43/50\n",
            "\u001b[1m5/5\u001b[0m \u001b[32m━━━━━━━━━━━━━━━━━━━━\u001b[0m\u001b[37m\u001b[0m \u001b[1m0s\u001b[0m 16ms/step - loss: 0.0126 - val_loss: 0.0121\n",
            "Epoch 44/50\n",
            "\u001b[1m5/5\u001b[0m \u001b[32m━━━━━━━━━━━━━━━━━━━━\u001b[0m\u001b[37m\u001b[0m \u001b[1m0s\u001b[0m 16ms/step - loss: 0.0123 - val_loss: 0.0115\n",
            "Epoch 45/50\n",
            "\u001b[1m5/5\u001b[0m \u001b[32m━━━━━━━━━━━━━━━━━━━━\u001b[0m\u001b[37m\u001b[0m \u001b[1m0s\u001b[0m 16ms/step - loss: 0.0117 - val_loss: 0.0110\n",
            "Epoch 46/50\n",
            "\u001b[1m5/5\u001b[0m \u001b[32m━━━━━━━━━━━━━━━━━━━━\u001b[0m\u001b[37m\u001b[0m \u001b[1m0s\u001b[0m 20ms/step - loss: 0.0112 - val_loss: 0.0105\n",
            "Epoch 47/50\n",
            "\u001b[1m5/5\u001b[0m \u001b[32m━━━━━━━━━━━━━━━━━━━━\u001b[0m\u001b[37m\u001b[0m \u001b[1m0s\u001b[0m 16ms/step - loss: 0.0109 - val_loss: 0.0101\n",
            "Epoch 48/50\n",
            "\u001b[1m5/5\u001b[0m \u001b[32m━━━━━━━━━━━━━━━━━━━━\u001b[0m\u001b[37m\u001b[0m \u001b[1m0s\u001b[0m 16ms/step - loss: 0.0102 - val_loss: 0.0096\n",
            "Epoch 49/50\n",
            "\u001b[1m5/5\u001b[0m \u001b[32m━━━━━━━━━━━━━━━━━━━━\u001b[0m\u001b[37m\u001b[0m \u001b[1m0s\u001b[0m 15ms/step - loss: 0.0101 - val_loss: 0.0092\n",
            "Epoch 50/50\n",
            "\u001b[1m5/5\u001b[0m \u001b[32m━━━━━━━━━━━━━━━━━━━━\u001b[0m\u001b[37m\u001b[0m \u001b[1m0s\u001b[0m 18ms/step - loss: 0.0095 - val_loss: 0.0088\n"
          ]
        }
      ],
      "source": [
        "# Train the model\n",
        "history = model.fit(X_train, Y_train, epochs=50, batch_size=5, verbose=1, validation_data=(X_test, Y_test))\n"
      ]
    },
    {
      "cell_type": "code",
      "execution_count": null,
      "id": "db4e5768-fd16-4024-b052-ddb4eb16462f",
      "metadata": {
        "id": "db4e5768-fd16-4024-b052-ddb4eb16462f",
        "outputId": "23f3bf04-83a1-4fa0-ff88-eed8aef3d35f"
      },
      "outputs": [
        {
          "data": {
            "text/plain": [
              "(7, 5)"
            ]
          },
          "execution_count": 33,
          "metadata": {},
          "output_type": "execute_result"
        }
      ],
      "source": [
        "X_test.shape"
      ]
    },
    {
      "cell_type": "code",
      "execution_count": null,
      "id": "0b2a84dd-e26e-4930-b5be-b08df186a0c1",
      "metadata": {
        "id": "0b2a84dd-e26e-4930-b5be-b08df186a0c1",
        "outputId": "475d1486-ffd1-4ca0-b190-fa79d2c4f936"
      },
      "outputs": [
        {
          "data": {
            "text/plain": [
              "array([[4.29456061, 4.24849524, 4.30135873, 4.25703014, 1.65679544],\n",
              "       [4.46129982, 4.47049528, 4.50092016, 4.49423863, 1.76280127],\n",
              "       [4.20469262, 4.18052226, 4.2822063 , 4.27805404, 1.66399976],\n",
              "       [4.15888308, 4.02713581, 4.04305127, 4.06902675, 1.66625521],\n",
              "       [4.25419326, 4.32545628, 4.38576962, 4.3000028 , 1.70764683],\n",
              "       [4.24563401, 4.26267988, 4.35027794, 4.29592394, 1.68735801],\n",
              "       [4.9351931 , 4.91852001, 5.08202529, 4.96563793, 1.75266686]])"
            ]
          },
          "execution_count": 34,
          "metadata": {},
          "output_type": "execute_result"
        }
      ],
      "source": [
        "X_test"
      ]
    },
    {
      "cell_type": "code",
      "execution_count": null,
      "id": "1aec9cea-2db9-42d7-919f-43fde7e3e8b5",
      "metadata": {
        "id": "1aec9cea-2db9-42d7-919f-43fde7e3e8b5",
        "outputId": "1d7c7aa7-667d-4dba-c864-d550090e0cf4"
      },
      "outputs": [
        {
          "data": {
            "text/plain": [
              "(7, 4)"
            ]
          },
          "execution_count": 35,
          "metadata": {},
          "output_type": "execute_result"
        }
      ],
      "source": [
        "Y_test.shape"
      ]
    },
    {
      "cell_type": "code",
      "execution_count": null,
      "id": "765788ec-3d30-4491-b990-6fa256c26a27",
      "metadata": {
        "id": "765788ec-3d30-4491-b990-6fa256c26a27",
        "outputId": "bc148496-e068-4042-ee01-1170f9c9727d"
      },
      "outputs": [
        {
          "data": {
            "text/plain": [
              "array([[4.15888308, 4.02713581, 4.04305127, 4.06902675, 1.66625521]])"
            ]
          },
          "execution_count": 36,
          "metadata": {},
          "output_type": "execute_result"
        }
      ],
      "source": [
        "X_test[3,:].reshape(1,5)"
      ]
    },
    {
      "cell_type": "code",
      "execution_count": null,
      "id": "36fb0ee1-488e-4249-ba0c-83396121e3c0",
      "metadata": {
        "id": "36fb0ee1-488e-4249-ba0c-83396121e3c0",
        "outputId": "2c253d81-e351-4dbc-8847-cbde751284e1"
      },
      "outputs": [
        {
          "data": {
            "text/plain": [
              "array([[0.3  , 0.173, 0.143, 0.384]])"
            ]
          },
          "execution_count": 37,
          "metadata": {},
          "output_type": "execute_result"
        }
      ],
      "source": [
        "Y_test[3,:].reshape(1,4)"
      ]
    },
    {
      "cell_type": "code",
      "execution_count": null,
      "id": "7bdd208d-0569-47b5-9e71-c4f5d31d4351",
      "metadata": {
        "id": "7bdd208d-0569-47b5-9e71-c4f5d31d4351",
        "outputId": "713cabae-664d-4328-fa49-c8c017d73d43"
      },
      "outputs": [
        {
          "name": "stdout",
          "output_type": "stream",
          "text": [
            "\u001b[1m1/1\u001b[0m \u001b[32m━━━━━━━━━━━━━━━━━━━━\u001b[0m\u001b[37m\u001b[0m \u001b[1m0s\u001b[0m 140ms/step\n"
          ]
        },
        {
          "data": {
            "text/plain": [
              "array([[0.20066936, 0.16915701, 0.1295088 , 0.2072806 ]], dtype=float32)"
            ]
          },
          "execution_count": 38,
          "metadata": {},
          "output_type": "execute_result"
        }
      ],
      "source": [
        "model.predict(X_test[3,:].reshape(1,5))"
      ]
    },
    {
      "cell_type": "code",
      "execution_count": null,
      "id": "26c66c72-a84b-41df-b3ab-0e268680d618",
      "metadata": {
        "id": "26c66c72-a84b-41df-b3ab-0e268680d618"
      },
      "outputs": [],
      "source": [
        "# Save the entire model\n",
        "# model.save(r'model.h5')\n",
        "\n",
        "# Load the entire model\n",
        "# new_model = tf.keras.models.load_model(r'model - Copy.h5')"
      ]
    },
    {
      "cell_type": "code",
      "execution_count": null,
      "id": "56eed1c6-2762-4f5e-a5ee-ab84fc2b47e5",
      "metadata": {
        "id": "56eed1c6-2762-4f5e-a5ee-ab84fc2b47e5",
        "outputId": "a3086216-94d0-4969-90d3-f4bc474f80d3"
      },
      "outputs": [
        {
          "name": "stdout",
          "output_type": "stream",
          "text": [
            "\u001b[1m1/1\u001b[0m \u001b[32m━━━━━━━━━━━━━━━━━━━━\u001b[0m\u001b[37m\u001b[0m \u001b[1m0s\u001b[0m 114ms/step\n"
          ]
        }
      ],
      "source": [
        "ypred=model.predict(X_test.reshape(7,5))"
      ]
    },
    {
      "cell_type": "markdown",
      "id": "2d4df462-69bd-49ed-a9ed-0eb4bc76a091",
      "metadata": {
        "id": "2d4df462-69bd-49ed-a9ed-0eb4bc76a091"
      },
      "source": [
        "# comparing the models"
      ]
    },
    {
      "cell_type": "code",
      "execution_count": null,
      "id": "e6e99b96-9f28-4ee9-88d4-c4546b92bfb6",
      "metadata": {
        "id": "e6e99b96-9f28-4ee9-88d4-c4546b92bfb6",
        "outputId": "df8c559e-5a5d-4c3c-86d0-c474185d62c5"
      },
      "outputs": [
        {
          "name": "stdout",
          "output_type": "stream",
          "text": [
            "Empty DataFrame\n",
            "Columns: [Model_name, MAPE, RMSE]\n",
            "Index: []\n"
          ]
        },
        {
          "data": {
            "text/html": [
              "<div>\n",
              "<style scoped>\n",
              "    .dataframe tbody tr th:only-of-type {\n",
              "        vertical-align: middle;\n",
              "    }\n",
              "\n",
              "    .dataframe tbody tr th {\n",
              "        vertical-align: top;\n",
              "    }\n",
              "\n",
              "    .dataframe thead th {\n",
              "        text-align: right;\n",
              "    }\n",
              "</style>\n",
              "<table border=\"1\" class=\"dataframe\">\n",
              "  <thead>\n",
              "    <tr style=\"text-align: right;\">\n",
              "      <th></th>\n",
              "      <th>Model_name</th>\n",
              "      <th>MAPE</th>\n",
              "      <th>RMSE</th>\n",
              "    </tr>\n",
              "  </thead>\n",
              "  <tbody>\n",
              "  </tbody>\n",
              "</table>\n",
              "</div>"
            ],
            "text/plain": [
              "Empty DataFrame\n",
              "Columns: [Model_name, MAPE, RMSE]\n",
              "Index: []"
            ]
          },
          "execution_count": 45,
          "metadata": {},
          "output_type": "execute_result"
        }
      ],
      "source": [
        "report_df=pd.DataFrame(columns=['Model_name','MAPE','RMSE'])\n",
        "print(report_df)\n",
        "def get_report(report_df,average_mape,average_rmse,model_name):\n",
        "    temp_df=pd.DataFrame({'Model_name':model_name,'MAPE':[average_mape],'RMSE':[average_rmse]})\n",
        "    report_df=pd.concat((report_df,temp_df),axis=0)\n",
        "    return report_df\n",
        "report_df"
      ]
    },
    {
      "cell_type": "code",
      "execution_count": null,
      "id": "0ea06a50-82a5-4035-b2e4-1447154f03e5",
      "metadata": {
        "id": "0ea06a50-82a5-4035-b2e4-1447154f03e5",
        "outputId": "1fe13e4b-3de2-4067-9432-506c98780a66"
      },
      "outputs": [
        {
          "name": "stderr",
          "output_type": "stream",
          "text": [
            "C:\\Users\\agarw\\AppData\\Local\\Temp\\ipykernel_21784\\570315260.py:5: FutureWarning:\n",
            "\n",
            "The behavior of DataFrame concatenation with empty or all-NA entries is deprecated. In a future version, this will no longer exclude empty or all-NA columns when determining the result dtypes. To retain the old behavior, exclude the relevant entries before the concat operation.\n",
            "\n"
          ]
        }
      ],
      "source": [
        "# Calculate MAPE for each equation\n",
        "def mean_absolute_percentage_error(y_true, y_pred):\n",
        "    return np.mean(np.abs((y_true - y_pred) / y_true)) * 100\n",
        "# Define function for RMSE calculation\n",
        "def root_mean_squared_error(y_true, y_pred):\n",
        "    return np.sqrt(np.mean((y_true - y_pred) ** 2))\n",
        "\n",
        "mape_individual = []\n",
        "rmse_individual = []\n",
        "\n",
        "for equation in sur_res.equations:\n",
        "    y_true = data_dict[equation]\n",
        "    y_pred = sur_res.equations[equation].fitted_values\n",
        "#     print(y_true,y_pred)\n",
        "    mape = mean_absolute_percentage_error(y_true, y_pred)\n",
        "    rmse=  root_mean_squared_error(y_true, y_pred)\n",
        "    mape_individual.append(mape)\n",
        "    rmse_individual.append(rmse)\n",
        "#     print(f\"\\nMAPE for {equation}: {mape:.2f}%\")\n",
        "\n",
        "average_mape = np.mean(mape_individual)\n",
        "average_rmse = np.mean(rmse_individual)\n",
        "average_mape,average_rmse\n",
        "report_df=get_report(report_df,average_mape,average_rmse,'SUR_Model')"
      ]
    },
    {
      "cell_type": "code",
      "execution_count": null,
      "id": "afa047bc-27de-460b-b943-f1a5056d48ab",
      "metadata": {
        "id": "afa047bc-27de-460b-b943-f1a5056d48ab"
      },
      "outputs": [],
      "source": [
        "# Function to calculate Mean Absolute Percentage Error (MAPE)\n",
        "def mean_absolute_percentage_error(y_true, y_pred):\n",
        "    return np.mean(np.abs((y_true - y_pred) / y_true)) * 100\n",
        "# Define function for RMSE calculation\n",
        "def root_mean_squared_error(y_true, y_pred):\n",
        "    return np.sqrt(np.mean((y_true - y_pred) ** 2))\n",
        "\n",
        "# Calculate MAPE for each output variable\n",
        "mape_individual = [mean_absolute_percentage_error(Y_test[:, i].round(2), ypred[:, i].round(2)) for i in range(Y_test.shape[1])]\n",
        "rmse_individual=  [root_mean_squared_error(Y_test[:, i].round(2), ypred[:, i].round(2)) for i in range(Y_test.shape[1])]\n",
        "# Calculate average MAPE\n",
        "average_mape = np.mean(mape_individual)\n",
        "average_rmse = np.mean(rmse_individual)\n",
        "\n",
        "average_mape,average_rmse\n",
        "report_df=get_report(report_df,average_mape,average_rmse,'ANN_Model')"
      ]
    },
    {
      "cell_type": "code",
      "execution_count": null,
      "id": "3caba052-5656-4cf7-9fb3-65e008f1e394",
      "metadata": {
        "id": "3caba052-5656-4cf7-9fb3-65e008f1e394",
        "outputId": "998e7f87-ac4d-410e-de08-1f648240a468"
      },
      "outputs": [
        {
          "data": {
            "text/html": [
              "<div>\n",
              "<style scoped>\n",
              "    .dataframe tbody tr th:only-of-type {\n",
              "        vertical-align: middle;\n",
              "    }\n",
              "\n",
              "    .dataframe tbody tr th {\n",
              "        vertical-align: top;\n",
              "    }\n",
              "\n",
              "    .dataframe thead th {\n",
              "        text-align: right;\n",
              "    }\n",
              "</style>\n",
              "<table border=\"1\" class=\"dataframe\">\n",
              "  <thead>\n",
              "    <tr style=\"text-align: right;\">\n",
              "      <th></th>\n",
              "      <th>Model_name</th>\n",
              "      <th>MAPE</th>\n",
              "      <th>RMSE</th>\n",
              "    </tr>\n",
              "  </thead>\n",
              "  <tbody>\n",
              "    <tr>\n",
              "      <th>0</th>\n",
              "      <td>SUR_Model</td>\n",
              "      <td>1.971422</td>\n",
              "      <td>0.005854</td>\n",
              "    </tr>\n",
              "    <tr>\n",
              "      <th>0</th>\n",
              "      <td>ANN_Model</td>\n",
              "      <td>24.081626</td>\n",
              "      <td>0.074005</td>\n",
              "    </tr>\n",
              "  </tbody>\n",
              "</table>\n",
              "</div>"
            ],
            "text/plain": [
              "  Model_name       MAPE      RMSE\n",
              "0  SUR_Model   1.971422  0.005854\n",
              "0  ANN_Model  24.081626  0.074005"
            ]
          },
          "execution_count": 48,
          "metadata": {},
          "output_type": "execute_result"
        }
      ],
      "source": [
        "report_df"
      ]
    },
    {
      "cell_type": "code",
      "execution_count": null,
      "id": "35672802-a01e-46c1-9dd5-233cae959143",
      "metadata": {
        "id": "35672802-a01e-46c1-9dd5-233cae959143",
        "outputId": "4ebec9a0-3d34-450a-98ed-171432e9d02e"
      },
      "outputs": [
        {
          "data": {
            "text/html": [
              "<div>\n",
              "<style scoped>\n",
              "    .dataframe tbody tr th:only-of-type {\n",
              "        vertical-align: middle;\n",
              "    }\n",
              "\n",
              "    .dataframe tbody tr th {\n",
              "        vertical-align: top;\n",
              "    }\n",
              "\n",
              "    .dataframe thead th {\n",
              "        text-align: right;\n",
              "    }\n",
              "</style>\n",
              "<table border=\"1\" class=\"dataframe\">\n",
              "  <thead>\n",
              "    <tr style=\"text-align: right;\">\n",
              "      <th></th>\n",
              "      <th>Model_name</th>\n",
              "      <th>Metric</th>\n",
              "      <th>Score</th>\n",
              "    </tr>\n",
              "  </thead>\n",
              "  <tbody>\n",
              "    <tr>\n",
              "      <th>0</th>\n",
              "      <td>SUR_Model</td>\n",
              "      <td>MAPE</td>\n",
              "      <td>1.971422</td>\n",
              "    </tr>\n",
              "    <tr>\n",
              "      <th>1</th>\n",
              "      <td>ANN_Model</td>\n",
              "      <td>MAPE</td>\n",
              "      <td>24.081626</td>\n",
              "    </tr>\n",
              "    <tr>\n",
              "      <th>2</th>\n",
              "      <td>SUR_Model</td>\n",
              "      <td>RMSE</td>\n",
              "      <td>0.005854</td>\n",
              "    </tr>\n",
              "    <tr>\n",
              "      <th>3</th>\n",
              "      <td>ANN_Model</td>\n",
              "      <td>RMSE</td>\n",
              "      <td>0.074005</td>\n",
              "    </tr>\n",
              "  </tbody>\n",
              "</table>\n",
              "</div>"
            ],
            "text/plain": [
              "  Model_name Metric      Score\n",
              "0  SUR_Model   MAPE   1.971422\n",
              "1  ANN_Model   MAPE  24.081626\n",
              "2  SUR_Model   RMSE   0.005854\n",
              "3  ANN_Model   RMSE   0.074005"
            ]
          },
          "execution_count": 49,
          "metadata": {},
          "output_type": "execute_result"
        }
      ],
      "source": [
        "report_df1=pd.melt(report_df,id_vars='Model_name',var_name='Metric',value_name='Score')\n",
        "report_df1"
      ]
    },
    {
      "cell_type": "code",
      "execution_count": null,
      "id": "929b76c7-b3fd-4310-8b4b-63f53bd80592",
      "metadata": {
        "id": "929b76c7-b3fd-4310-8b4b-63f53bd80592",
        "outputId": "858181be-ce99-41c7-8c19-ddc7ed5dad96"
      },
      "outputs": [
        {
          "data": {
            "text/plain": [
              "<Axes: xlabel='Metric', ylabel='Score'>"
            ]
          },
          "execution_count": 50,
          "metadata": {},
          "output_type": "execute_result"
        },
        {
          "data": {
            "image/png": "[encoded data removed]",
            "text/plain": [
              "<Figure size 500x500 with 1 Axes>"
            ]
          },
          "metadata": {},
          "output_type": "display_data"
        }
      ],
      "source": [
        "import seaborn as sns\n",
        "import matplotlib.pyplot as plt\n",
        "plt.rcParams['figure.figsize']=[5,5]\n",
        "sns.boxplot(data=report_df1,x=report_df1.Metric,y=report_df1.Score,hue='Model_name')"
      ]
    },
    {
      "cell_type": "code",
      "execution_count": null,
      "id": "7a3fb6df-2fc9-4cb1-9f18-af6c329d013a",
      "metadata": {
        "id": "7a3fb6df-2fc9-4cb1-9f18-af6c329d013a",
        "outputId": "377ad694-3320-43ea-e46f-5a7f9b5dcd4b"
      },
      "outputs": [
        {
          "data": {
            "application/vnd.plotly.v1+json": {
              "config": {
                "plotlyServerURL": "https://plot.ly"
              },
              "data": [
                {
                  "alignmentgroup": "True",
                  "hovertemplate": "Model_name=SUR_Model<br>Metric=%{x}<br>Score=%{y}<extra></extra>",
                  "legendgroup": "SUR_Model",
                  "marker": {
                    "color": "#636efa"
                  },
                  "name": "SUR_Model",
                  "notched": false,
                  "offsetgroup": "SUR_Model",
                  "orientation": "v",
                  "showlegend": true,
                  "type": "box",
                  "x": [
                    "MAPE",
                    "RMSE"
                  ],
                  "x0": " ",
                  "xaxis": "x",
                  "y": [
                    1.9714224762179684,
                    0.005854209614694437
                  ],
                  "y0": " ",
                  "yaxis": "y"
                },
                {
                  "alignmentgroup": "True",
                  "hovertemplate": "Model_name=ANN_Model<br>Metric=%{x}<br>Score=%{y}<extra></extra>",
                  "legendgroup": "ANN_Model",
                  "marker": {
                    "color": "#EF553B"
                  },
                  "name": "ANN_Model",
                  "notched": false,
                  "offsetgroup": "ANN_Model",
                  "orientation": "v",
                  "showlegend": true,
                  "type": "box",
                  "x": [
                    "MAPE",
                    "RMSE"
                  ],
                  "x0": " ",
                  "xaxis": "x",
                  "y": [
                    24.081625886412475,
                    0.07400460633532178
                  ],
                  "y0": " ",
                  "yaxis": "y"
                }
              ],
              "layout": {
                "autosize": false,
                "boxmode": "group",
                "height": 500,
                "legend": {
                  "title": {
                    "text": "Model_name"
                  },
                  "tracegroupgap": 0
                },
                "template": {
                  "data": {
                    "bar": [
                      {
                        "error_x": {
                          "color": "#2a3f5f"
                        },
                        "error_y": {
                          "color": "#2a3f5f"
                        },
                        "marker": {
                          "line": {
                            "color": "#E5ECF6",
                            "width": 0.5
                          },
                          "pattern": {
                            "fillmode": "overlay",
                            "size": 10,
                            "solidity": 0.2
                          }
                        },
                        "type": "bar"
                      }
                    ],
                    "barpolar": [
                      {
                        "marker": {
                          "line": {
                            "color": "#E5ECF6",
                            "width": 0.5
                          },
                          "pattern": {
                            "fillmode": "overlay",
                            "size": 10,
                            "solidity": 0.2
                          }
                        },
                        "type": "barpolar"
                      }
                    ],
                    "carpet": [
                      {
                        "aaxis": {
                          "endlinecolor": "#2a3f5f",
                          "gridcolor": "white",
                          "linecolor": "white",
                          "minorgridcolor": "white",
                          "startlinecolor": "#2a3f5f"
                        },
                        "baxis": {
                          "endlinecolor": "#2a3f5f",
                          "gridcolor": "white",
                          "linecolor": "white",
                          "minorgridcolor": "white",
                          "startlinecolor": "#2a3f5f"
                        },
                        "type": "carpet"
                      }
                    ],
                    "choropleth": [
                      {
                        "colorbar": {
                          "outlinewidth": 0,
                          "ticks": ""
                        },
                        "type": "choropleth"
                      }
                    ],
                    "contour": [
                      {
                        "colorbar": {
                          "outlinewidth": 0,
                          "ticks": ""
                        },
                        "colorscale": [
                          [
                            0,
                            "#0d0887"
                          ],
                          [
                            0.1111111111111111,
                            "#46039f"
                          ],
                          [
                            0.2222222222222222,
                            "#7201a8"
                          ],
                          [
                            0.3333333333333333,
                            "#9c179e"
                          ],
                          [
                            0.4444444444444444,
                            "#bd3786"
                          ],
                          [
                            0.5555555555555556,
                            "#d8576b"
                          ],
                          [
                            0.6666666666666666,
                            "#ed7953"
                          ],
                          [
                            0.7777777777777778,
                            "#fb9f3a"
                          ],
                          [
                            0.8888888888888888,
                            "#fdca26"
                          ],
                          [
                            1,
                            "#f0f921"
                          ]
                        ],
                        "type": "contour"
                      }
                    ],
                    "contourcarpet": [
                      {
                        "colorbar": {
                          "outlinewidth": 0,
                          "ticks": ""
                        },
                        "type": "contourcarpet"
                      }
                    ],
                    "heatmap": [
                      {
                        "colorbar": {
                          "outlinewidth": 0,
                          "ticks": ""
                        },
                        "colorscale": [
                          [
                            0,
                            "#0d0887"
                          ],
                          [
                            0.1111111111111111,
                            "#46039f"
                          ],
                          [
                            0.2222222222222222,
                            "#7201a8"
                          ],
                          [
                            0.3333333333333333,
                            "#9c179e"
                          ],
                          [
                            0.4444444444444444,
                            "#bd3786"
                          ],
                          [
                            0.5555555555555556,
                            "#d8576b"
                          ],
                          [
                            0.6666666666666666,
                            "#ed7953"
                          ],
                          [
                            0.7777777777777778,
                            "#fb9f3a"
                          ],
                          [
                            0.8888888888888888,
                            "#fdca26"
                          ],
                          [
                            1,
                            "#f0f921"
                          ]
                        ],
                        "type": "heatmap"
                      }
                    ],
                    "heatmapgl": [
                      {
                        "colorbar": {
                          "outlinewidth": 0,
                          "ticks": ""
                        },
                        "colorscale": [
                          [
                            0,
                            "#0d0887"
                          ],
                          [
                            0.1111111111111111,
                            "#46039f"
                          ],
                          [
                            0.2222222222222222,
                            "#7201a8"
                          ],
                          [
                            0.3333333333333333,
                            "#9c179e"
                          ],
                          [
                            0.4444444444444444,
                            "#bd3786"
                          ],
                          [
                            0.5555555555555556,
                            "#d8576b"
                          ],
                          [
                            0.6666666666666666,
                            "#ed7953"
                          ],
                          [
                            0.7777777777777778,
                            "#fb9f3a"
                          ],
                          [
                            0.8888888888888888,
                            "#fdca26"
                          ],
                          [
                            1,
                            "#f0f921"
                          ]
                        ],
                        "type": "heatmapgl"
                      }
                    ],
                    "histogram": [
                      {
                        "marker": {
                          "pattern": {
                            "fillmode": "overlay",
                            "size": 10,
                            "solidity": 0.2
                          }
                        },
                        "type": "histogram"
                      }
                    ],
                    "histogram2d": [
                      {
                        "colorbar": {
                          "outlinewidth": 0,
                          "ticks": ""
                        },
                        "colorscale": [
                          [
                            0,
                            "#0d0887"
                          ],
                          [
                            0.1111111111111111,
                            "#46039f"
                          ],
                          [
                            0.2222222222222222,
                            "#7201a8"
                          ],
                          [
                            0.3333333333333333,
                            "#9c179e"
                          ],
                          [
                            0.4444444444444444,
                            "#bd3786"
                          ],
                          [
                            0.5555555555555556,
                            "#d8576b"
                          ],
                          [
                            0.6666666666666666,
                            "#ed7953"
                          ],
                          [
                            0.7777777777777778,
                            "#fb9f3a"
                          ],
                          [
                            0.8888888888888888,
                            "#fdca26"
                          ],
                          [
                            1,
                            "#f0f921"
                          ]
                        ],
                        "type": "histogram2d"
                      }
                    ],
                    "histogram2dcontour": [
                      {
                        "colorbar": {
                          "outlinewidth": 0,
                          "ticks": ""
                        },
                        "colorscale": [
                          [
                            0,
                            "#0d0887"
                          ],
                          [
                            0.1111111111111111,
                            "#46039f"
                          ],
                          [
                            0.2222222222222222,
                            "#7201a8"
                          ],
                          [
                            0.3333333333333333,
                            "#9c179e"
                          ],
                          [
                            0.4444444444444444,
                            "#bd3786"
                          ],
                          [
                            0.5555555555555556,
                            "#d8576b"
                          ],
                          [
                            0.6666666666666666,
                            "#ed7953"
                          ],
                          [
                            0.7777777777777778,
                            "#fb9f3a"
                          ],
                          [
                            0.8888888888888888,
                            "#fdca26"
                          ],
                          [
                            1,
                            "#f0f921"
                          ]
                        ],
                        "type": "histogram2dcontour"
                      }
                    ],
                    "mesh3d": [
                      {
                        "colorbar": {
                          "outlinewidth": 0,
                          "ticks": ""
                        },
                        "type": "mesh3d"
                      }
                    ],
                    "parcoords": [
                      {
                        "line": {
                          "colorbar": {
                            "outlinewidth": 0,
                            "ticks": ""
                          }
                        },
                        "type": "parcoords"
                      }
                    ],
                    "pie": [
                      {
                        "automargin": true,
                        "type": "pie"
                      }
                    ],
                    "scatter": [
                      {
                        "fillpattern": {
                          "fillmode": "overlay",
                          "size": 10,
                          "solidity": 0.2
                        },
                        "type": "scatter"
                      }
                    ],
                    "scatter3d": [
                      {
                        "line": {
                          "colorbar": {
                            "outlinewidth": 0,
                            "ticks": ""
                          }
                        },
                        "marker": {
                          "colorbar": {
                            "outlinewidth": 0,
                            "ticks": ""
                          }
                        },
                        "type": "scatter3d"
                      }
                    ],
                    "scattercarpet": [
                      {
                        "marker": {
                          "colorbar": {
                            "outlinewidth": 0,
                            "ticks": ""
                          }
                        },
                        "type": "scattercarpet"
                      }
                    ],
                    "scattergeo": [
                      {
                        "marker": {
                          "colorbar": {
                            "outlinewidth": 0,
                            "ticks": ""
                          }
                        },
                        "type": "scattergeo"
                      }
                    ],
                    "scattergl": [
                      {
                        "marker": {
                          "colorbar": {
                            "outlinewidth": 0,
                            "ticks": ""
                          }
                        },
                        "type": "scattergl"
                      }
                    ],
                    "scattermapbox": [
                      {
                        "marker": {
                          "colorbar": {
                            "outlinewidth": 0,
                            "ticks": ""
                          }
                        },
                        "type": "scattermapbox"
                      }
                    ],
                    "scatterpolar": [
                      {
                        "marker": {
                          "colorbar": {
                            "outlinewidth": 0,
                            "ticks": ""
                          }
                        },
                        "type": "scatterpolar"
                      }
                    ],
                    "scatterpolargl": [
                      {
                        "marker": {
                          "colorbar": {
                            "outlinewidth": 0,
                            "ticks": ""
                          }
                        },
                        "type": "scatterpolargl"
                      }
                    ],
                    "scatterternary": [
                      {
                        "marker": {
                          "colorbar": {
                            "outlinewidth": 0,
                            "ticks": ""
                          }
                        },
                        "type": "scatterternary"
                      }
                    ],
                    "surface": [
                      {
                        "colorbar": {
                          "outlinewidth": 0,
                          "ticks": ""
                        },
                        "colorscale": [
                          [
                            0,
                            "#0d0887"
                          ],
                          [
                            0.1111111111111111,
                            "#46039f"
                          ],
                          [
                            0.2222222222222222,
                            "#7201a8"
                          ],
                          [
                            0.3333333333333333,
                            "#9c179e"
                          ],
                          [
                            0.4444444444444444,
                            "#bd3786"
                          ],
                          [
                            0.5555555555555556,
                            "#d8576b"
                          ],
                          [
                            0.6666666666666666,
                            "#ed7953"
                          ],
                          [
                            0.7777777777777778,
                            "#fb9f3a"
                          ],
                          [
                            0.8888888888888888,
                            "#fdca26"
                          ],
                          [
                            1,
                            "#f0f921"
                          ]
                        ],
                        "type": "surface"
                      }
                    ],
                    "table": [
                      {
                        "cells": {
                          "fill": {
                            "color": "#EBF0F8"
                          },
                          "line": {
                            "color": "white"
                          }
                        },
                        "header": {
                          "fill": {
                            "color": "#C8D4E3"
                          },
                          "line": {
                            "color": "white"
                          }
                        },
                        "type": "table"
                      }
                    ]
                  },
                  "layout": {
                    "annotationdefaults": {
                      "arrowcolor": "#2a3f5f",
                      "arrowhead": 0,
                      "arrowwidth": 1
                    },
                    "autotypenumbers": "strict",
                    "coloraxis": {
                      "colorbar": {
                        "outlinewidth": 0,
                        "ticks": ""
                      }
                    },
                    "colorscale": {
                      "diverging": [
                        [
                          0,
                          "#8e0152"
                        ],
                        [
                          0.1,
                          "#c51b7d"
                        ],
                        [
                          0.2,
                          "#de77ae"
                        ],
                        [
                          0.3,
                          "#f1b6da"
                        ],
                        [
                          0.4,
                          "#fde0ef"
                        ],
                        [
                          0.5,
                          "#f7f7f7"
                        ],
                        [
                          0.6,
                          "#e6f5d0"
                        ],
                        [
                          0.7,
                          "#b8e186"
                        ],
                        [
                          0.8,
                          "#7fbc41"
                        ],
                        [
                          0.9,
                          "#4d9221"
                        ],
                        [
                          1,
                          "#276419"
                        ]
                      ],
                      "sequential": [
                        [
                          0,
                          "#0d0887"
                        ],
                        [
                          0.1111111111111111,
                          "#46039f"
                        ],
                        [
                          0.2222222222222222,
                          "#7201a8"
                        ],
                        [
                          0.3333333333333333,
                          "#9c179e"
                        ],
                        [
                          0.4444444444444444,
                          "#bd3786"
                        ],
                        [
                          0.5555555555555556,
                          "#d8576b"
                        ],
                        [
                          0.6666666666666666,
                          "#ed7953"
                        ],
                        [
                          0.7777777777777778,
                          "#fb9f3a"
                        ],
                        [
                          0.8888888888888888,
                          "#fdca26"
                        ],
                        [
                          1,
                          "#f0f921"
                        ]
                      ],
                      "sequentialminus": [
                        [
                          0,
                          "#0d0887"
                        ],
                        [
                          0.1111111111111111,
                          "#46039f"
                        ],
                        [
                          0.2222222222222222,
                          "#7201a8"
                        ],
                        [
                          0.3333333333333333,
                          "#9c179e"
                        ],
                        [
                          0.4444444444444444,
                          "#bd3786"
                        ],
                        [
                          0.5555555555555556,
                          "#d8576b"
                        ],
                        [
                          0.6666666666666666,
                          "#ed7953"
                        ],
                        [
                          0.7777777777777778,
                          "#fb9f3a"
                        ],
                        [
                          0.8888888888888888,
                          "#fdca26"
                        ],
                        [
                          1,
                          "#f0f921"
                        ]
                      ]
                    },
                    "colorway": [
                      "#636efa",
                      "#EF553B",
                      "#00cc96",
                      "#ab63fa",
                      "#FFA15A",
                      "#19d3f3",
                      "#FF6692",
                      "#B6E880",
                      "#FF97FF",
                      "#FECB52"
                    ],
                    "font": {
                      "color": "#2a3f5f"
                    },
                    "geo": {
                      "bgcolor": "white",
                      "lakecolor": "white",
                      "landcolor": "#E5ECF6",
                      "showlakes": true,
                      "showland": true,
                      "subunitcolor": "white"
                    },
                    "hoverlabel": {
                      "align": "left"
                    },
                    "hovermode": "closest",
                    "mapbox": {
                      "style": "light"
                    },
                    "paper_bgcolor": "white",
                    "plot_bgcolor": "#E5ECF6",
                    "polar": {
                      "angularaxis": {
                        "gridcolor": "white",
                        "linecolor": "white",
                        "ticks": ""
                      },
                      "bgcolor": "#E5ECF6",
                      "radialaxis": {
                        "gridcolor": "white",
                        "linecolor": "white",
                        "ticks": ""
                      }
                    },
                    "scene": {
                      "xaxis": {
                        "backgroundcolor": "#E5ECF6",
                        "gridcolor": "white",
                        "gridwidth": 2,
                        "linecolor": "white",
                        "showbackground": true,
                        "ticks": "",
                        "zerolinecolor": "white"
                      },
                      "yaxis": {
                        "backgroundcolor": "#E5ECF6",
                        "gridcolor": "white",
                        "gridwidth": 2,
                        "linecolor": "white",
                        "showbackground": true,
                        "ticks": "",
                        "zerolinecolor": "white"
                      },
                      "zaxis": {
                        "backgroundcolor": "#E5ECF6",
                        "gridcolor": "white",
                        "gridwidth": 2,
                        "linecolor": "white",
                        "showbackground": true,
                        "ticks": "",
                        "zerolinecolor": "white"
                      }
                    },
                    "shapedefaults": {
                      "line": {
                        "color": "#2a3f5f"
                      }
                    },
                    "ternary": {
                      "aaxis": {
                        "gridcolor": "white",
                        "linecolor": "white",
                        "ticks": ""
                      },
                      "baxis": {
                        "gridcolor": "white",
                        "linecolor": "white",
                        "ticks": ""
                      },
                      "bgcolor": "#E5ECF6",
                      "caxis": {
                        "gridcolor": "white",
                        "linecolor": "white",
                        "ticks": ""
                      }
                    },
                    "title": {
                      "x": 0.05
                    },
                    "xaxis": {
                      "automargin": true,
                      "gridcolor": "white",
                      "linecolor": "white",
                      "ticks": "",
                      "title": {
                        "standoff": 15
                      },
                      "zerolinecolor": "white",
                      "zerolinewidth": 2
                    },
                    "yaxis": {
                      "automargin": true,
                      "gridcolor": "white",
                      "linecolor": "white",
                      "ticks": "",
                      "title": {
                        "standoff": 15
                      },
                      "zerolinecolor": "white",
                      "zerolinewidth": 2
                    }
                  }
                },
                "title": {
                  "text": "Box Plot of Metrics by Model"
                },
                "width": 500,
                "xaxis": {
                  "anchor": "y",
                  "autorange": true,
                  "domain": [
                    0,
                    1
                  ],
                  "range": [
                    -0.5,
                    1.5
                  ],
                  "title": {
                    "text": "Metric"
                  },
                  "type": "category"
                },
                "yaxis": {
                  "anchor": "x",
                  "autorange": true,
                  "domain": [
                    0,
                    1
                  ],
                  "range": [
                    -1.3316886613185155,
                    25.419168757345684
                  ],
                  "title": {
                    "text": "Score"
                  },
                  "type": "linear"
                }
              }
            },
            "image/png": "[encoded data removed]",
            "text/html": [
              "<div>                            <div id=\"bdfd369d-0a71-4a53-8d4a-3f054a6c0595\" class=\"plotly-graph-div\" style=\"height:500px; width:500px;\"></div>            <script type=\"text/javascript\">                require([\"plotly\"], function(Plotly) {                    window.PLOTLYENV=window.PLOTLYENV || {};                                    if (document.getElementById(\"bdfd369d-0a71-4a53-8d4a-3f054a6c0595\")) {                    Plotly.newPlot(                        \"bdfd369d-0a71-4a53-8d4a-3f054a6c0595\",                        [{\"alignmentgroup\":\"True\",\"hovertemplate\":\"Model_name=SUR_Model<br>Metric=%{x}<br>Score=%{y}<extra></extra>\",\"legendgroup\":\"SUR_Model\",\"marker\":{\"color\":\"#636efa\"},\"name\":\"SUR_Model\",\"notched\":false,\"offsetgroup\":\"SUR_Model\",\"orientation\":\"v\",\"showlegend\":true,\"x\":[\"MAPE\",\"RMSE\"],\"x0\":\" \",\"xaxis\":\"x\",\"y\":[1.9714224762179684,0.005854209614694437],\"y0\":\" \",\"yaxis\":\"y\",\"type\":\"box\"},{\"alignmentgroup\":\"True\",\"hovertemplate\":\"Model_name=ANN_Model<br>Metric=%{x}<br>Score=%{y}<extra></extra>\",\"legendgroup\":\"ANN_Model\",\"marker\":{\"color\":\"#EF553B\"},\"name\":\"ANN_Model\",\"notched\":false,\"offsetgroup\":\"ANN_Model\",\"orientation\":\"v\",\"showlegend\":true,\"x\":[\"MAPE\",\"RMSE\"],\"x0\":\" \",\"xaxis\":\"x\",\"y\":[24.081625886412475,0.07400460633532178],\"y0\":\" \",\"yaxis\":\"y\",\"type\":\"box\"}],                        {\"template\":{\"data\":{\"histogram2dcontour\":[{\"type\":\"histogram2dcontour\",\"colorbar\":{\"outlinewidth\":0,\"ticks\":\"\"},\"colorscale\":[[0.0,\"#0d0887\"],[0.1111111111111111,\"#46039f\"],[0.2222222222222222,\"#7201a8\"],[0.3333333333333333,\"#9c179e\"],[0.4444444444444444,\"#bd3786\"],[0.5555555555555556,\"#d8576b\"],[0.6666666666666666,\"#ed7953\"],[0.7777777777777778,\"#fb9f3a\"],[0.8888888888888888,\"#fdca26\"],[1.0,\"#f0f921\"]]}],\"choropleth\":[{\"type\":\"choropleth\",\"colorbar\":{\"outlinewidth\":0,\"ticks\":\"\"}}],\"histogram2d\":[{\"type\":\"histogram2d\",\"colorbar\":{\"outlinewidth\":0,\"ticks\":\"\"},\"colorscale\":[[0.0,\"#0d0887\"],[0.1111111111111111,\"#46039f\"],[0.2222222222222222,\"#7201a8\"],[0.3333333333333333,\"#9c179e\"],[0.4444444444444444,\"#bd3786\"],[0.5555555555555556,\"#d8576b\"],[0.6666666666666666,\"#ed7953\"],[0.7777777777777778,\"#fb9f3a\"],[0.8888888888888888,\"#fdca26\"],[1.0,\"#f0f921\"]]}],\"heatmap\":[{\"type\":\"heatmap\",\"colorbar\":{\"outlinewidth\":0,\"ticks\":\"\"},\"colorscale\":[[0.0,\"#0d0887\"],[0.1111111111111111,\"#46039f\"],[0.2222222222222222,\"#7201a8\"],[0.3333333333333333,\"#9c179e\"],[0.4444444444444444,\"#bd3786\"],[0.5555555555555556,\"#d8576b\"],[0.6666666666666666,\"#ed7953\"],[0.7777777777777778,\"#fb9f3a\"],[0.8888888888888888,\"#fdca26\"],[1.0,\"#f0f921\"]]}],\"heatmapgl\":[{\"type\":\"heatmapgl\",\"colorbar\":{\"outlinewidth\":0,\"ticks\":\"\"},\"colorscale\":[[0.0,\"#0d0887\"],[0.1111111111111111,\"#46039f\"],[0.2222222222222222,\"#7201a8\"],[0.3333333333333333,\"#9c179e\"],[0.4444444444444444,\"#bd3786\"],[0.5555555555555556,\"#d8576b\"],[0.6666666666666666,\"#ed7953\"],[0.7777777777777778,\"#fb9f3a\"],[0.8888888888888888,\"#fdca26\"],[1.0,\"#f0f921\"]]}],\"contourcarpet\":[{\"type\":\"contourcarpet\",\"colorbar\":{\"outlinewidth\":0,\"ticks\":\"\"}}],\"contour\":[{\"type\":\"contour\",\"colorbar\":{\"outlinewidth\":0,\"ticks\":\"\"},\"colorscale\":[[0.0,\"#0d0887\"],[0.1111111111111111,\"#46039f\"],[0.2222222222222222,\"#7201a8\"],[0.3333333333333333,\"#9c179e\"],[0.4444444444444444,\"#bd3786\"],[0.5555555555555556,\"#d8576b\"],[0.6666666666666666,\"#ed7953\"],[0.7777777777777778,\"#fb9f3a\"],[0.8888888888888888,\"#fdca26\"],[1.0,\"#f0f921\"]]}],\"surface\":[{\"type\":\"surface\",\"colorbar\":{\"outlinewidth\":0,\"ticks\":\"\"},\"colorscale\":[[0.0,\"#0d0887\"],[0.1111111111111111,\"#46039f\"],[0.2222222222222222,\"#7201a8\"],[0.3333333333333333,\"#9c179e\"],[0.4444444444444444,\"#bd3786\"],[0.5555555555555556,\"#d8576b\"],[0.6666666666666666,\"#ed7953\"],[0.7777777777777778,\"#fb9f3a\"],[0.8888888888888888,\"#fdca26\"],[1.0,\"#f0f921\"]]}],\"mesh3d\":[{\"type\":\"mesh3d\",\"colorbar\":{\"outlinewidth\":0,\"ticks\":\"\"}}],\"scatter\":[{\"fillpattern\":{\"fillmode\":\"overlay\",\"size\":10,\"solidity\":0.2},\"type\":\"scatter\"}],\"parcoords\":[{\"type\":\"parcoords\",\"line\":{\"colorbar\":{\"outlinewidth\":0,\"ticks\":\"\"}}}],\"scatterpolargl\":[{\"type\":\"scatterpolargl\",\"marker\":{\"colorbar\":{\"outlinewidth\":0,\"ticks\":\"\"}}}],\"bar\":[{\"error_x\":{\"color\":\"#2a3f5f\"},\"error_y\":{\"color\":\"#2a3f5f\"},\"marker\":{\"line\":{\"color\":\"#E5ECF6\",\"width\":0.5},\"pattern\":{\"fillmode\":\"overlay\",\"size\":10,\"solidity\":0.2}},\"type\":\"bar\"}],\"scattergeo\":[{\"type\":\"scattergeo\",\"marker\":{\"colorbar\":{\"outlinewidth\":0,\"ticks\":\"\"}}}],\"scatterpolar\":[{\"type\":\"scatterpolar\",\"marker\":{\"colorbar\":{\"outlinewidth\":0,\"ticks\":\"\"}}}],\"histogram\":[{\"marker\":{\"pattern\":{\"fillmode\":\"overlay\",\"size\":10,\"solidity\":0.2}},\"type\":\"histogram\"}],\"scattergl\":[{\"type\":\"scattergl\",\"marker\":{\"colorbar\":{\"outlinewidth\":0,\"ticks\":\"\"}}}],\"scatter3d\":[{\"type\":\"scatter3d\",\"line\":{\"colorbar\":{\"outlinewidth\":0,\"ticks\":\"\"}},\"marker\":{\"colorbar\":{\"outlinewidth\":0,\"ticks\":\"\"}}}],\"scattermapbox\":[{\"type\":\"scattermapbox\",\"marker\":{\"colorbar\":{\"outlinewidth\":0,\"ticks\":\"\"}}}],\"scatterternary\":[{\"type\":\"scatterternary\",\"marker\":{\"colorbar\":{\"outlinewidth\":0,\"ticks\":\"\"}}}],\"scattercarpet\":[{\"type\":\"scattercarpet\",\"marker\":{\"colorbar\":{\"outlinewidth\":0,\"ticks\":\"\"}}}],\"carpet\":[{\"aaxis\":{\"endlinecolor\":\"#2a3f5f\",\"gridcolor\":\"white\",\"linecolor\":\"white\",\"minorgridcolor\":\"white\",\"startlinecolor\":\"#2a3f5f\"},\"baxis\":{\"endlinecolor\":\"#2a3f5f\",\"gridcolor\":\"white\",\"linecolor\":\"white\",\"minorgridcolor\":\"white\",\"startlinecolor\":\"#2a3f5f\"},\"type\":\"carpet\"}],\"table\":[{\"cells\":{\"fill\":{\"color\":\"#EBF0F8\"},\"line\":{\"color\":\"white\"}},\"header\":{\"fill\":{\"color\":\"#C8D4E3\"},\"line\":{\"color\":\"white\"}},\"type\":\"table\"}],\"barpolar\":[{\"marker\":{\"line\":{\"color\":\"#E5ECF6\",\"width\":0.5},\"pattern\":{\"fillmode\":\"overlay\",\"size\":10,\"solidity\":0.2}},\"type\":\"barpolar\"}],\"pie\":[{\"automargin\":true,\"type\":\"pie\"}]},\"layout\":{\"autotypenumbers\":\"strict\",\"colorway\":[\"#636efa\",\"#EF553B\",\"#00cc96\",\"#ab63fa\",\"#FFA15A\",\"#19d3f3\",\"#FF6692\",\"#B6E880\",\"#FF97FF\",\"#FECB52\"],\"font\":{\"color\":\"#2a3f5f\"},\"hovermode\":\"closest\",\"hoverlabel\":{\"align\":\"left\"},\"paper_bgcolor\":\"white\",\"plot_bgcolor\":\"#E5ECF6\",\"polar\":{\"bgcolor\":\"#E5ECF6\",\"angularaxis\":{\"gridcolor\":\"white\",\"linecolor\":\"white\",\"ticks\":\"\"},\"radialaxis\":{\"gridcolor\":\"white\",\"linecolor\":\"white\",\"ticks\":\"\"}},\"ternary\":{\"bgcolor\":\"#E5ECF6\",\"aaxis\":{\"gridcolor\":\"white\",\"linecolor\":\"white\",\"ticks\":\"\"},\"baxis\":{\"gridcolor\":\"white\",\"linecolor\":\"white\",\"ticks\":\"\"},\"caxis\":{\"gridcolor\":\"white\",\"linecolor\":\"white\",\"ticks\":\"\"}},\"coloraxis\":{\"colorbar\":{\"outlinewidth\":0,\"ticks\":\"\"}},\"colorscale\":{\"sequential\":[[0.0,\"#0d0887\"],[0.1111111111111111,\"#46039f\"],[0.2222222222222222,\"#7201a8\"],[0.3333333333333333,\"#9c179e\"],[0.4444444444444444,\"#bd3786\"],[0.5555555555555556,\"#d8576b\"],[0.6666666666666666,\"#ed7953\"],[0.7777777777777778,\"#fb9f3a\"],[0.8888888888888888,\"#fdca26\"],[1.0,\"#f0f921\"]],\"sequentialminus\":[[0.0,\"#0d0887\"],[0.1111111111111111,\"#46039f\"],[0.2222222222222222,\"#7201a8\"],[0.3333333333333333,\"#9c179e\"],[0.4444444444444444,\"#bd3786\"],[0.5555555555555556,\"#d8576b\"],[0.6666666666666666,\"#ed7953\"],[0.7777777777777778,\"#fb9f3a\"],[0.8888888888888888,\"#fdca26\"],[1.0,\"#f0f921\"]],\"diverging\":[[0,\"#8e0152\"],[0.1,\"#c51b7d\"],[0.2,\"#de77ae\"],[0.3,\"#f1b6da\"],[0.4,\"#fde0ef\"],[0.5,\"#f7f7f7\"],[0.6,\"#e6f5d0\"],[0.7,\"#b8e186\"],[0.8,\"#7fbc41\"],[0.9,\"#4d9221\"],[1,\"#276419\"]]},\"xaxis\":{\"gridcolor\":\"white\",\"linecolor\":\"white\",\"ticks\":\"\",\"title\":{\"standoff\":15},\"zerolinecolor\":\"white\",\"automargin\":true,\"zerolinewidth\":2},\"yaxis\":{\"gridcolor\":\"white\",\"linecolor\":\"white\",\"ticks\":\"\",\"title\":{\"standoff\":15},\"zerolinecolor\":\"white\",\"automargin\":true,\"zerolinewidth\":2},\"scene\":{\"xaxis\":{\"backgroundcolor\":\"#E5ECF6\",\"gridcolor\":\"white\",\"linecolor\":\"white\",\"showbackground\":true,\"ticks\":\"\",\"zerolinecolor\":\"white\",\"gridwidth\":2},\"yaxis\":{\"backgroundcolor\":\"#E5ECF6\",\"gridcolor\":\"white\",\"linecolor\":\"white\",\"showbackground\":true,\"ticks\":\"\",\"zerolinecolor\":\"white\",\"gridwidth\":2},\"zaxis\":{\"backgroundcolor\":\"#E5ECF6\",\"gridcolor\":\"white\",\"linecolor\":\"white\",\"showbackground\":true,\"ticks\":\"\",\"zerolinecolor\":\"white\",\"gridwidth\":2}},\"shapedefaults\":{\"line\":{\"color\":\"#2a3f5f\"}},\"annotationdefaults\":{\"arrowcolor\":\"#2a3f5f\",\"arrowhead\":0,\"arrowwidth\":1},\"geo\":{\"bgcolor\":\"white\",\"landcolor\":\"#E5ECF6\",\"subunitcolor\":\"white\",\"showland\":true,\"showlakes\":true,\"lakecolor\":\"white\"},\"title\":{\"x\":0.05},\"mapbox\":{\"style\":\"light\"}}},\"xaxis\":{\"anchor\":\"y\",\"domain\":[0.0,1.0],\"title\":{\"text\":\"Metric\"}},\"yaxis\":{\"anchor\":\"x\",\"domain\":[0.0,1.0],\"title\":{\"text\":\"Score\"}},\"legend\":{\"title\":{\"text\":\"Model_name\"},\"tracegroupgap\":0},\"title\":{\"text\":\"Box Plot of Metrics by Model\"},\"boxmode\":\"group\",\"autosize\":false,\"width\":500,\"height\":500},                        {\"responsive\": true}                    ).then(function(){\n",
              "                            \n",
              "var gd = document.getElementById('bdfd369d-0a71-4a53-8d4a-3f054a6c0595');\n",
              "var x = new MutationObserver(function (mutations, observer) {{\n",
              "        var display = window.getComputedStyle(gd).display;\n",
              "        if (!display || display === 'none') {{\n",
              "            console.log([gd, 'removed!']);\n",
              "            Plotly.purge(gd);\n",
              "            observer.disconnect();\n",
              "        }}\n",
              "}});\n",
              "\n",
              "// Listen for the removal of the full notebook cells\n",
              "var notebookContainer = gd.closest('#notebook-container');\n",
              "if (notebookContainer) {{\n",
              "    x.observe(notebookContainer, {childList: true});\n",
              "}}\n",
              "\n",
              "// Listen for the clearing of the current output cell\n",
              "var outputEl = gd.closest('.output');\n",
              "if (outputEl) {{\n",
              "    x.observe(outputEl, {childList: true});\n",
              "}}\n",
              "\n",
              "                        })                };                });            </script>        </div>"
            ]
          },
          "metadata": {},
          "output_type": "display_data"
        }
      ],
      "source": [
        "import plotly.express as px\n",
        "import pandas as pd\n",
        "# Create the box plot using Plotly\n",
        "fig = px.box(report_df1, x='Metric', y='Score', color='Model_name', title='Box Plot of Metrics by Model')\n",
        "\n",
        "# Update layout if needed (e.g., to adjust the size)\n",
        "fig.update_layout(\n",
        "    autosize=False,\n",
        "    width=500,\n",
        "    height=500\n",
        ")\n",
        "\n",
        "# Show the plot\n",
        "fig.show()"
      ]
    },
    {
      "cell_type": "code",
      "execution_count": null,
      "id": "416fbc78-38eb-4340-a60f-b61090bcad78",
      "metadata": {
        "id": "416fbc78-38eb-4340-a60f-b61090bcad78"
      },
      "outputs": [],
      "source": []
    }
  ],
  "metadata": {
    "kernelspec": {
      "display_name": "Python 3 (ipykernel)",
      "language": "python",
      "name": "python3"
    },
    "language_info": {
      "codemirror_mode": {
        "name": "ipython",
        "version": 3
      },
      "file_extension": ".py",
      "mimetype": "text/x-python",
      "name": "python",
      "nbconvert_exporter": "python",
      "pygments_lexer": "ipython3",
      "version": "3.11.7"
    },
    "colab": {
      "provenance": []
    }
  },
  "nbformat": 4,
  "nbformat_minor": 5
}